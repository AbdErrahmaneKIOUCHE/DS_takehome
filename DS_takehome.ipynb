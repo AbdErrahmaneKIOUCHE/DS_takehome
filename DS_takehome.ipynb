{
 "cells": [
  {
   "cell_type": "code",
   "execution_count": 1,
   "id": "a84f836a",
   "metadata": {},
   "outputs": [],
   "source": [
    "\n",
    "import re\n",
    "import openpyxl\n",
    "import pandas as pd\n",
    "import os"
   ]
  },
  {
   "cell_type": "markdown",
   "id": "0acc9038",
   "metadata": {},
   "source": [
    "# Data import "
   ]
  },
  {
   "cell_type": "code",
   "execution_count": 52,
   "id": "88021133",
   "metadata": {},
   "outputs": [],
   "source": [
    "# import date \n",
    "df = pd.read_excel('D:\\\\aphelio\\\\Take home - exercice 1 - product name and version parsing.xlsx', sheet_name='Dataset')"
   ]
  },
  {
   "cell_type": "markdown",
   "id": "ff18bfbb",
   "metadata": {},
   "source": [
    "# Data Exploration"
   ]
  },
  {
   "cell_type": "code",
   "execution_count": 53,
   "id": "7aa94b9f",
   "metadata": {},
   "outputs": [
    {
     "data": {
      "text/html": [
       "<div>\n",
       "<style scoped>\n",
       "    .dataframe tbody tr th:only-of-type {\n",
       "        vertical-align: middle;\n",
       "    }\n",
       "\n",
       "    .dataframe tbody tr th {\n",
       "        vertical-align: top;\n",
       "    }\n",
       "\n",
       "    .dataframe thead th {\n",
       "        text-align: right;\n",
       "    }\n",
       "</style>\n",
       "<table border=\"1\" class=\"dataframe\">\n",
       "  <thead>\n",
       "    <tr style=\"text-align: right;\">\n",
       "      <th></th>\n",
       "      <th>vendor</th>\n",
       "      <th>product</th>\n",
       "      <th>version</th>\n",
       "      <th>update</th>\n",
       "      <th>versionStartIncluding</th>\n",
       "      <th>versionStartExcluding</th>\n",
       "      <th>versionEndIncluding</th>\n",
       "      <th>versionEndExcluding</th>\n",
       "    </tr>\n",
       "  </thead>\n",
       "  <tbody>\n",
       "    <tr>\n",
       "      <th>0</th>\n",
       "      <td>hikvision</td>\n",
       "      <td>ds-2cd2021g1-i\\(w\\)</td>\n",
       "      <td>-</td>\n",
       "      <td>*</td>\n",
       "      <td>NaN</td>\n",
       "      <td>NaN</td>\n",
       "      <td>NaN</td>\n",
       "      <td>NaN</td>\n",
       "    </tr>\n",
       "    <tr>\n",
       "      <th>1</th>\n",
       "      <td>hikvision</td>\n",
       "      <td>ds-2cd2023g2-i\\(u\\)</td>\n",
       "      <td>-</td>\n",
       "      <td>*</td>\n",
       "      <td>NaN</td>\n",
       "      <td>NaN</td>\n",
       "      <td>NaN</td>\n",
       "      <td>NaN</td>\n",
       "    </tr>\n",
       "    <tr>\n",
       "      <th>2</th>\n",
       "      <td>hikvision</td>\n",
       "      <td>ds-2cd2026g2-iu\\/sl</td>\n",
       "      <td>-</td>\n",
       "      <td>*</td>\n",
       "      <td>NaN</td>\n",
       "      <td>NaN</td>\n",
       "      <td>NaN</td>\n",
       "      <td>NaN</td>\n",
       "    </tr>\n",
       "    <tr>\n",
       "      <th>3</th>\n",
       "      <td>hikvision</td>\n",
       "      <td>ds-2cd2027g2-l\\(u\\)</td>\n",
       "      <td>-</td>\n",
       "      <td>*</td>\n",
       "      <td>NaN</td>\n",
       "      <td>NaN</td>\n",
       "      <td>NaN</td>\n",
       "      <td>NaN</td>\n",
       "    </tr>\n",
       "    <tr>\n",
       "      <th>4</th>\n",
       "      <td>hikvision</td>\n",
       "      <td>ds-2cd2027g2-lu\\/sl</td>\n",
       "      <td>-</td>\n",
       "      <td>*</td>\n",
       "      <td>NaN</td>\n",
       "      <td>NaN</td>\n",
       "      <td>NaN</td>\n",
       "      <td>NaN</td>\n",
       "    </tr>\n",
       "  </tbody>\n",
       "</table>\n",
       "</div>"
      ],
      "text/plain": [
       "      vendor              product version update versionStartIncluding  \\\n",
       "0  hikvision  ds-2cd2021g1-i\\(w\\)       -      *                   NaN   \n",
       "1  hikvision  ds-2cd2023g2-i\\(u\\)       -      *                   NaN   \n",
       "2  hikvision  ds-2cd2026g2-iu\\/sl       -      *                   NaN   \n",
       "3  hikvision  ds-2cd2027g2-l\\(u\\)       -      *                   NaN   \n",
       "4  hikvision  ds-2cd2027g2-lu\\/sl       -      *                   NaN   \n",
       "\n",
       "   versionStartExcluding versionEndIncluding versionEndExcluding  \n",
       "0                    NaN                 NaN                 NaN  \n",
       "1                    NaN                 NaN                 NaN  \n",
       "2                    NaN                 NaN                 NaN  \n",
       "3                    NaN                 NaN                 NaN  \n",
       "4                    NaN                 NaN                 NaN  "
      ]
     },
     "execution_count": 53,
     "metadata": {},
     "output_type": "execute_result"
    }
   ],
   "source": [
    "# Look at the first few rows of the dataframe to get an idea of the data\n",
    "df.head()"
   ]
  },
  {
   "cell_type": "code",
   "execution_count": 54,
   "id": "5e7991ab",
   "metadata": {},
   "outputs": [
    {
     "data": {
      "text/plain": [
       "array(['ds-2cd2021g1-i\\\\(w\\\\)', 'ds-2cd2023g2-i\\\\(u\\\\)',\n",
       "       'ds-2cd2026g2-iu\\\\/sl', 'ds-2cd2027g2-l\\\\(u\\\\)',\n",
       "       'ds-2cd2027g2-lu\\\\/sl', 'ds-2cd2032-i', 'ds-2cd2043g2-i\\\\(u\\\\)',\n",
       "       'ds-2cd2046g2-iu\\\\/sl', 'ds-2cd2047g2-l\\\\(u\\\\)',\n",
       "       'ds-2cd2063g2-i\\\\(u\\\\)', 'ds-2cd2066g2-i\\\\(u\\\\)',\n",
       "       'ds-2cd2066g2-iu\\\\/sl', 'ds-2cd2083g2-i\\\\(u\\\\)',\n",
       "       'ds-2cd2086g2-i\\\\(u\\\\)', 'ds-2cd2086g2-iu\\\\/sl',\n",
       "       'ds-2cd2087g2-l\\\\(u\\\\)', 'ds-2cd2112-i',\n",
       "       'ds-2cd2121g0-i\\\\(w\\\\)\\\\(s\\\\)', 'ds-2cd2121g1-i\\\\(w\\\\)',\n",
       "       'ds-2cd2121g1-idw', 'ds-2cd2121g1', 'ds-2cd2123g2-i\\\\(s\\\\)',\n",
       "       'ds-2cd2123g2-iu', 'ds-2cd2127g2-\\\\(-su\\\\)', 'ds-2cd2132-i',\n",
       "       'ds-2cd2143g2-i\\\\(s\\\\)', 'ds-2cd2143g2-iu',\n",
       "       'ds-2cd2147g2-l\\\\(su\\\\)', 'ds-2cd2163g2-i\\\\(s\\\\)',\n",
       "       'ds-2cd2163g2-iu', 'ds-2cd2166g2-i\\\\(su\\\\)',\n",
       "       'ds-2cd2183g2-i\\\\(s\\\\)', 'ds-2cd2183g2-i\\\\(u\\\\)',\n",
       "       'ds-2cd2183g2-iu', 'ds-2cd2186g2-i\\\\(su\\\\)', 'ds-2cd2186g2-isu',\n",
       "       'ds-2cd2212-i5', 'ds-2cd2232-i5', 'ds-2cd2312-i',\n",
       "       'ds-2cd2321g0-i\\\\/nf', 'ds-2cd2323g2-i\\\\(u\\\\)',\n",
       "       'ds-2cd2326g2-isu\\\\/sl', 'ds-2cd2327g2-l\\\\(u\\\\)', 'ds-2cd2332-i',\n",
       "       'ds-2cd2343g2-i\\\\(u\\\\)', 'ds-2cd2346g2-isu\\\\/sl',\n",
       "       'ds-2cd2347g2-l\\\\(u\\\\)', 'ds-2cd2347g2-lsu\\\\/sl',\n",
       "       'ds-2cd2363g2-i\\\\(u\\\\)', 'ds-2cd2366g2-i\\\\(u\\\\)',\n",
       "       'ds-2cd2366g2-isu\\\\/sl', 'ds-2cd2383g2-i\\\\(u\\\\)',\n",
       "       'ds-2cd2386g2-i\\\\(u\\\\)', 'ds-2cd2386g2-isu\\\\/sl',\n",
       "       'ds-2cd2387g2-l\\\\(u\\\\)', 'ds-2cd2412f-i\\\\(w\\\\)',\n",
       "       'ds-2cd2421g0-i\\\\(d\\\\)\\\\(w\\\\)', 'ds-2cd2421g0-i\\\\(d\\\\)w',\n",
       "       'ds-2cd2426g2-i', 'ds-2cd2432f-i\\\\(w\\\\)', 'ds-2cd2432f-iw',\n",
       "       'ds-2cd2446g2-i', 'ds-2cd2512f-i\\\\(s\\\\)', 'ds-2cd2523g2-i\\\\(s\\\\)',\n",
       "       'ds-2cd2523g2-i\\\\(u\\\\)', 'ds-2cd2526g2-i\\\\(s\\\\)',\n",
       "       'ds-2cd2526g2-is', 'ds-2cd2527g2-ls', 'ds-2cd2532f-i\\\\(s\\\\)',\n",
       "       'ds-2cd2543g2-i\\\\(ws\\\\)', 'ds-2cd2546g2-i\\\\(s\\\\)',\n",
       "       'ds-2cd2547g2-ls', 'ds-2cd2547g2-lzs', 'ds-2cd2563g2-i\\\\(s\\\\)',\n",
       "       'ds-2cd2566g2-i\\\\(s\\\\)', 'ds-2cd2583g2-i\\\\(s\\\\)',\n",
       "       'ds-2cd2586g2-i\\\\(s\\\\)', 'ds-2cd2612f-i\\\\(s\\\\)',\n",
       "       'ds-2cd2621g0-i\\\\(z\\\\)\\\\(s\\\\)', 'ds-2cd2623g2-izs',\n",
       "       'ds-2cd2626g2-izsu\\\\/sl', 'ds-2cd2632f-i\\\\(s\\\\)',\n",
       "       'ds-2cd2643g2-izs', 'ds-2cd2646g2-izsu\\\\/sl', 'ds-2cd2663g2-izs',\n",
       "       'ds-2cd2666g2-izs', 'ds-2cd2666g2-izsu\\\\/sl', 'ds-2cd2683g2-izs',\n",
       "       'ds-2cd2686g2-izs', 'ds-2cd2686g2-izsu\\\\/sl',\n",
       "       'ds-2cd2712f-i\\\\(s\\\\)', 'ds-2cd2721g0-i\\\\(z\\\\)\\\\(s\\\\)',\n",
       "       'ds-2cd2723g2-izs', 'ds-2cd2732f-i\\\\(s\\\\)', 'ds-2cd2743g2-izs',\n",
       "       'ds-2cd2763g2-izs', 'ds-2cd2766g2-izs', 'ds-2cd2783g2-izs',\n",
       "       'ds-2cd2786g2-izs', 'ds-2cd2t32-i3', 'ds-2cd2t32-i5',\n",
       "       'ds-2cd2t32-i8', 'ds-2cd3023g2-iu', 'ds-2cd3026g2-is',\n",
       "       'ds-2cd3026g2-iu\\\\/sl', 'ds-2cd3043g2-iu', 'ds-2cd3047g2-ls',\n",
       "       'ds-2cd3056g2-is', 'ds-2cd3056g2-iu\\\\/sl', 'ds-2cd3056g2iu\\\\/sl',\n",
       "       'ds-2cd3063g2-iu', 'ds-2cd3086g2-is', 'ds-2cd3123g2-i\\\\(s\\\\)u',\n",
       "       'ds-2cd3126g2-is', 'ds-2cd3126g2-is\\\\(u\\\\)',\n",
       "       'ds-2cd3143g2-i\\\\(s\\\\)u', 'ds-2cd3156g2-is',\n",
       "       'ds-2cd3156g2-is\\\\(u\\\\)', 'ds-2cd3163g2-i\\\\(s\\\\)u',\n",
       "       'ds-2cd3186g2-is\\\\(u\\\\)', 'ds-2cd3323g2-iu',\n",
       "       'ds-2cd3326g2-isu\\\\/sl', 'ds-2cd3343g2-iu',\n",
       "       'ds-2cd3347g2-ls\\\\(u\\\\)', 'ds-2cd3356g2-is',\n",
       "       'ds-2cd3356g2-is\\\\(u\\\\)', 'ds-2cd3356g2-isu\\\\/sl',\n",
       "       'ds-2cd3363g2-iu', 'ds-2cd3386g2-is', 'ds-2cd3386g2-is\\\\(u\\\\)',\n",
       "       'ds-2cd3523g2-is', 'ds-2cd3526g2-is', 'ds-2cd3543g2-is',\n",
       "       'ds-2cd3547g2-ls', 'ds-2cd3556g2-is', 'ds-2cd3563g2-is',\n",
       "       'ds-2cd3586g2-is', 'ds-2cd3623g2-izs', 'ds-2cd3626g2-izs',\n",
       "       'ds-2cd3643g2-izs', 'ds-2cd3656g2-izs', 'ds-2cd3663g2-izs',\n",
       "       'ds-2cd3686g2-izs', 'ds-2cd3723g2-izs', 'ds-2cd3726g2-izs',\n",
       "       'ds-2cd3743g2-izs', 'ds-2cd3756g2-izs', 'ds-2cd3763g2-izs',\n",
       "       'ds-2cd3786g2-izs', 'ds-2cd4012f-\\\\(a\\\\)', 'ds-2cd4012f-\\\\(p\\\\)',\n",
       "       'ds-2cd4012f-\\\\(w\\\\)', 'ds-2cd4012fwd-\\\\(a\\\\)',\n",
       "       'ds-2cd4012fwd-\\\\(p\\\\)', 'ds-2cd4012fwd-\\\\(w\\\\)',\n",
       "       'ds-2cd4024f-\\\\(a\\\\)', 'ds-2cd4024f-\\\\(p\\\\)',\n",
       "       'ds-2cd4024f-\\\\(w\\\\)', 'ds-2cd4032fwd-\\\\(a\\\\)',\n",
       "       'ds-2cd4032fwd-\\\\(p\\\\)', 'ds-2cd4032fwd-\\\\(w\\\\)',\n",
       "       'ds-2cd4112f-i\\\\(z\\\\)', 'ds-2cd4112fwd-i\\\\(z\\\\)',\n",
       "       'ds-2cd4124f-i\\\\(z\\\\)', 'ds-2cd4132fwd-i\\\\(z\\\\)',\n",
       "       'ds-2cd4212f-i\\\\(h\\\\)', 'ds-2cd4212f-i\\\\(s\\\\)',\n",
       "       'ds-2cd4212f-i\\\\(z\\\\)', 'ds-2cd4212fwd-i\\\\(h\\\\)',\n",
       "       'ds-2cd4212fwd-i\\\\(s\\\\)', 'ds-2cd4212fwd-i\\\\(z\\\\)',\n",
       "       'ds-2cd4224f-i\\\\(h\\\\)', 'ds-2cd4224f-i\\\\(s\\\\)',\n",
       "       'ds-2cd4224f-i\\\\(z\\\\)', 'ds-2cd4232fwd-i\\\\(h\\\\)',\n",
       "       'ds-2cd4232fwd-i\\\\(s\\\\)', 'ds-2cd4232fwd-i\\\\(z\\\\)',\n",
       "       'ds-2cd4312f-i\\\\(h\\\\)', 'ds-2cd4312f-i\\\\(s\\\\)',\n",
       "       'ds-2cd4312f-i\\\\(z\\\\)', 'ds-2cd4324f-i\\\\(h\\\\)',\n",
       "       'ds-2cd4324f-i\\\\(s\\\\)', 'ds-2cd4324f-i\\\\(z\\\\)',\n",
       "       'ds-2cd4332fwd-i\\\\(h\\\\)', 'ds-2cd4332fwd-i\\\\(s\\\\)',\n",
       "       'ds-2cd4332fwd-i\\\\(z\\\\)', 'ds-2cd63xx_series', 'ds-2cd6412fwd',\n",
       "       'ds-2cd7153-e', 'ds-2cd9111-s', 'ds-2df5225x-ae3\\\\(t3\\\\)',\n",
       "       'ds-2df5225x-ael\\\\(t3\\\\)', 'ds-2df5232x-ae3\\\\)t3\\\\)',\n",
       "       'ds-2df5232x-ael\\\\(t3\\\\)', 'ds-2df6a225x-ael\\\\)t3\\\\)',\n",
       "       'ds-2df6a236x-ael\\\\(t3\\\\)', 'ds-2df6a425x-ael\\\\(t3\\\\)',\n",
       "       'ds-2df6a436x-ael\\\\(t3\\\\)', 'ds-2df6a436x-ael\\\\(t5\\\\)',\n",
       "       'ds-2df6a436x-aely\\\\(t5\\\\)', 'ds-2df6a825x-ael',\n",
       "       'ds-2df6a836x-ael\\\\(t5\\\\)', 'ds-2df7225ix-ael\\\\(t3\\\\)',\n",
       "       'ds-2df7225ix-aelw\\\\(t3\\\\)', 'ds-2df7232ix-ael\\\\(t3\\\\)',\n",
       "       'ds-2df7232ix-aelw\\\\(t3\\\\)', 'ds-2df8225ih-ael',\n",
       "       'ds-2df8225ih-ael\\\\(w\\\\)', 'ds-2df8225ix-ael\\\\(t3\\\\)',\n",
       "       'ds-2df8225ix-ael\\\\(t5\\\\)', 'ds-2df8225ix-aelw\\\\(t3\\\\)',\n",
       "       'ds-2df8225ix-aelw\\\\(t5\\\\)', 'ds-2df8236i5x-aelw',\n",
       "       'ds-2df8242i5x-ael\\\\(t3\\\\)', 'ds-2df8242i5x-aelw\\\\(t3\\\\)',\n",
       "       'ds-2df8242i5x-aelw\\\\(t5\\\\)', 'ds-2df8242ix-ael\\\\(t5\\\\)',\n",
       "       'ds-2df8242ix-aelw\\\\(t3\\\\)', 'ds-2df8242ix-aely\\\\(t3\\\\)',\n",
       "       'ds-2df8250i8x-ael\\\\(t3\\\\)', 'ds-2df8425ix-ael\\\\(t3\\\\)',\n",
       "       'ds-2df8425ix-ael\\\\(t5\\\\)', 'ds-2df8425ix-aelw\\\\(t3\\\\)',\n",
       "       'ds-2df8425ix-aelw\\\\(t5\\\\)', 'ds-2df8436i5x-aelw\\\\(t3\\\\)',\n",
       "       'ds-2df8442ixs-ael\\\\(t5\\\\)', 'ds-2df8442ixs-aelw\\\\(t2\\\\)',\n",
       "       'ds-2df8442ixs-aelw\\\\(t5\\\\)', 'ds-2df8442ixs-aelwy\\\\(t5\\\\)',\n",
       "       'ds-2df8442ixs-aely\\\\(t5\\\\)', 'ds-2df8a442ixs-ael\\\\(t2\\\\)',\n",
       "       'ds-2df8a442ixs-ael\\\\(t5\\\\)', 'ds-2df8a442ixs-aely\\\\(t5\\\\)',\n",
       "       'ds-2df8a442ixs-af\\\\/sp\\\\(t5\\\\)', 'ds-2df8a442nxs-ael\\\\(t5\\\\)',\n",
       "       'ds-2df8a842ixs-ael\\\\(t5\\\\)', 'ds-2dfx_series', 'ds-2dy9236i8x-a',\n",
       "       'ds-2dy9236i8x-a\\\\(t3\\\\)', 'ds-2dy9236ix-a\\\\(t3\\\\)',\n",
       "       'ds-2dy9236x-a\\\\(t3\\\\)', 'ds-2dy9240ix-a\\\\(t5\\\\)',\n",
       "       'ds-2dy92500x-a\\\\(t5\\\\)', 'ds-2dy9250izs-a\\\\(t5\\\\)',\n",
       "       'ds-2dyh2a0ixs-d\\\\(t2\\\\)', 'ds-2td1117-2\\\\/pa',\n",
       "       'ds-2td1117-3\\\\/pa', 'ds-2td1117-6\\\\/pa', 'ds-2td1217b-3\\\\/pa',\n",
       "       'ds-2td1217b-6\\\\/pa', 'ds-2td4136t-9', 'ds-2td4137-25\\\\/w',\n",
       "       'ds-2td4137-50\\\\/w', 'ds-2td4166t-9', 'ds-2td4167-25\\\\/w',\n",
       "       'ds-2td4167-50\\\\/w', 'ds-2td6236t-50h2l', 'ds-2td6237-50h4l\\\\/w',\n",
       "       'ds-2td6237-75c4l\\\\/w', 'ds-2td6266t-25h2l', 'ds-2td6266t-50h2l',\n",
       "       'ds-2td6267-100c4l\\\\/w', 'ds-2td6267-100c4l\\\\/wy',\n",
       "       'ds-2td6267-50h4l\\\\/w', 'ds-2td6267-75c4l\\\\/w',\n",
       "       'ds-2td6267-75c4l\\\\/wy', 'ds-2td8166-100c2f\\\\/v2',\n",
       "       'ds-2td8166-150ze2f\\\\/v2', 'ds-2td8166-150zh2f\\\\/v2',\n",
       "       'ds-2td8166-180ze2f\\\\/v2', 'ds-2td8166-75c2f\\\\/v2',\n",
       "       'ds-2td8167-150zc4f\\\\/w', 'ds-2td8167-190ze2f\\\\/w',\n",
       "       'ds-2td8167-190ze2f\\\\/wy', 'ds-2td8167-230zg2f\\\\/w',\n",
       "       'ds-2td8167-230zg2f\\\\/wy', 'ds-2xe6242f-is\\\\/316l\\\\(b\\\\)',\n",
       "       'ds-2xe6422fwd-izhrs', 'ds-2xe6442f-izhrs\\\\(b\\\\)',\n",
       "       'ds-2xe6452f-izh\\\\(r\\\\)s', 'ds-2xe6482f-izhrs', 'ds-3wf01c-2n\\\\/o',\n",
       "       'ds-3wf0ac-2nt', 'ds-7104ni-q1', 'ds-7104ni-q1\\\\/4p',\n",
       "       'ds-7104ni-q1\\\\/4p\\\\/m', 'ds-7104ni-q1\\\\/m', 'ds-7108ni-q1',\n",
       "       'ds-7108ni-q1\\\\/8p', 'ds-7108ni-q1\\\\/8p\\\\/m', 'ds-7108ni-q1\\\\/m',\n",
       "       'ds-7204hghi-f1', 'ds-7604ni-e1\\\\/4p', 'ds-7604ni-k1',\n",
       "       'ds-7604ni-k1\\\\/4p\\\\/4g', 'ds-7604ni-q1', 'ds-7604ni-q1\\\\/4p',\n",
       "       'ds-7608ni-12\\\\/8p', 'ds-7608ni-e1\\\\/8p', 'ds-7608ni-k1',\n",
       "       'ds-7608ni-k1\\\\/4g', 'ds-7608ni-k1\\\\/8p', 'ds-7608ni-k1\\\\/8p\\\\/4g',\n",
       "       'ds-7608ni-q1', 'ds-7608ni-q1\\\\/8p', 'ds-7608ni-q2',\n",
       "       'ds-7608ni-q2\\\\/8p', 'ds-760ni-k1\\\\/4p', 'ds-7616ni-12\\\\/16p',\n",
       "       'ds-7616ni-e2\\\\/16p', 'ds-7616ni-k1', 'ds-7616ni-q1',\n",
       "       'ds-7616ni-q2', 'ds-7616ni-q2\\\\/16p', 'ds-7716ni-14\\\\/16p',\n",
       "       'ds-7716ni-sp\\\\/16', 'ds-a71024', 'ds-a71048', 'ds-a71048r-cvs',\n",
       "       'ds-a71072r', 'ds-a72024', 'ds-a72048r-cvs', 'ds-a72072r',\n",
       "       'ds-a80316s', 'ds-a80624s', 'ds-a81016s', 'ds-a82024d',\n",
       "       'ds-k1t320efwx', 'ds-k1t320efx', 'ds-k1t320ewx', 'ds-k1t320ex',\n",
       "       'ds-k1t320mfwx', 'ds-k1t320mfx', 'ds-k1t320mwx', 'ds-k1t320mx',\n",
       "       'ds-k1t341am', 'ds-k1t341amf', 'ds-k1t341c', 'ds-k1t341cm',\n",
       "       'ds-k1t343efwx', 'ds-k1t343efx', 'ds-k1t343ewx', 'ds-k1t343ex',\n",
       "       'ds-k1t343mfwx', 'ds-k1t343mfx', 'ds-k1t343mwx', 'ds-k1t343mx',\n",
       "       'ds-k1t671', 'ds-k1t671m', 'ds-k1t671mf', 'ds-k1t671t',\n",
       "       'ds-k1t671tm-3xf', 'ds-k1t671tm', 'ds-k1t671tmf', 'ds-k1t671tmfw',\n",
       "       'ds-k1t671tmw', 'ds-k1t804af', 'ds-k1t804amf', 'ds-kh6220-le1',\n",
       "       'ds-kh6320-le1', 'ds-kh6320-tde1', 'ds-kh6320-te1',\n",
       "       'ds-kh6320-wtde1', 'ds-kh6320-wte1', 'ds-kh6350-wte1',\n",
       "       'ds-kh6351-te1', 'ds-kh6351-wte1', 'ds-kh63le1\\\\(b\\\\)',\n",
       "       'ds-kh8520-wte1', 'ds-kh9310-wte1\\\\(b\\\\)', 'ds-kh9510-wte1\\\\(b\\\\)',\n",
       "       'dvr_ds-7204', 'ids-2pt9a144mxs-d\\\\/t2', 'ids-2sk718mxs-d',\n",
       "       'ids-2sk8144ixs-d\\\\/j', 'ids-2vs435-f840-ey',\n",
       "       'ids-2vs435-f840-ey\\\\(t3\\\\)', 'ptz-n2204i-de3', 'ptz-n2404i-de3',\n",
       "       'ptz-n4215-de3', 'ptz-n4215i-de', 'ptz-n4225i-de', 'ptz-n5225i-a',\n",
       "       'ivms-4200', 'ip_cameras', 'ds-2cd2021g1-i\\\\(w\\\\)_firmware',\n",
       "       'ds-2cd2023g2-i\\\\(u\\\\)_firmware', 'ds-2cd2026g2-iu\\\\/sl_firmware',\n",
       "       'ds-2cd2027g2-l\\\\(u\\\\)_firmware', 'ds-2cd2027g2-lu\\\\/sl_firmware',\n",
       "       'ds-2cd2032-i_firmware', 'ds-2cd2043g2-i\\\\(u\\\\)_firmware',\n",
       "       'ds-2cd2046g2-iu\\\\/sl_firmware', 'ds-2cd2047g2-l\\\\(u\\\\)_firmware',\n",
       "       'ds-2cd2063g2-i\\\\(u\\\\)_firmware', 'ds-2cd2066g2-i\\\\(u\\\\)_firmware',\n",
       "       'ds-2cd2066g2-iu\\\\/sl_firmware', 'ds-2cd2083g2-i\\\\(u\\\\)_firmware',\n",
       "       'ds-2cd2086g2-i\\\\(u\\\\)_firmware', 'ds-2cd2086g2-iu\\\\/sl_firmware',\n",
       "       'ds-2cd2087g2-l\\\\(u\\\\)_firmware', 'ds-2cd2112-i_firmware',\n",
       "       'ds-2cd2121g0-i\\\\(w\\\\)\\\\(s\\\\)_firmware',\n",
       "       'ds-2cd2121g1-i\\\\(w\\\\)_firmware', 'ds-2cd2121g1-idw_firmware',\n",
       "       'ds-2cd2121g1_firmware', 'ds-2cd2123g2-i\\\\(s\\\\)_firmware',\n",
       "       'ds-2cd2123g2-iu_firmware', 'ds-2cd2127g2-\\\\(-su\\\\)_firmware',\n",
       "       'ds-2cd2132-i_firmware', 'ds-2cd2143g2-i\\\\(s\\\\)_firmware',\n",
       "       'ds-2cd2143g2-iu_firmware', 'ds-2cd2147g2-l\\\\(su\\\\)_firmware',\n",
       "       'ds-2cd2163g2-i\\\\(s\\\\)_firmware', 'ds-2cd2163g2-iu_firmware',\n",
       "       'ds-2cd2166g2-i\\\\(su\\\\)_firmware',\n",
       "       'ds-2cd2183g2-i\\\\(s\\\\)_firmware', 'ds-2cd2183g2-i\\\\(u\\\\)_firmware',\n",
       "       'ds-2cd2183g2-iu_firmware', 'ds-2cd2186g2-i\\\\(su\\\\)_firmware',\n",
       "       'ds-2cd2186g2-isu_firmware', 'ds-2cd2212-i5_firmware',\n",
       "       'ds-2cd2232-i5_firmware', 'ds-2cd2312-i_firmware',\n",
       "       'ds-2cd2321g0-i\\\\/nf_firmware', 'ds-2cd2323g2-i\\\\(u\\\\)_firmware',\n",
       "       'ds-2cd2326g2-isu\\\\/sl_firmware', 'ds-2cd2327g2-l\\\\(u\\\\)_firmware',\n",
       "       'ds-2cd2332-i_firmware', 'ds-2cd2343g2-i\\\\(u\\\\)_firmware',\n",
       "       'ds-2cd2346g2-isu\\\\/sl_firmware', 'ds-2cd2347g2-l\\\\(u\\\\)_firmware',\n",
       "       'ds-2cd2347g2-lsu\\\\/sl_firmware', 'ds-2cd2363g2-i\\\\(u\\\\)_firmware',\n",
       "       'ds-2cd2366g2-i\\\\(u\\\\)_firmware', 'ds-2cd2366g2-isu\\\\/sl_firmware',\n",
       "       'ds-2cd2383g2-i\\\\(u\\\\)_firmware', 'ds-2cd2386g2-i\\\\(u\\\\)_firmware',\n",
       "       'ds-2cd2386g2-isu\\\\/sl_firmware', 'ds-2cd2387g2-l\\\\(u\\\\)_firmware',\n",
       "       'ds-2cd2412f-i\\\\(w\\\\)_firmware',\n",
       "       'ds-2cd2421g0-i\\\\(d\\\\)\\\\(w\\\\)_firmware',\n",
       "       'ds-2cd2421g0-i\\\\(d\\\\)w_firmware', 'ds-2cd2426g2-i_firmware',\n",
       "       'ds-2cd2432f-i\\\\(w\\\\)_firmware', 'ds-2cd2432f-iw_firmware',\n",
       "       'ds-2cd2446g2-i_firmware', 'ds-2cd2512f-i\\\\(s\\\\)_firmware',\n",
       "       'ds-2cd2523g2-i\\\\(s\\\\)_firmware', 'ds-2cd2523g2-i\\\\(u\\\\)_firmware',\n",
       "       'ds-2cd2526g2-i\\\\(s\\\\)_firmware', 'ds-2cd2526g2-is_firmware',\n",
       "       'ds-2cd2527g2-ls_firmware', 'ds-2cd2532f-i\\\\(s\\\\)_firmware',\n",
       "       'ds-2cd2543g2-i\\\\(ws\\\\)_firmware',\n",
       "       'ds-2cd2546g2-i\\\\(s\\\\)_firmware', 'ds-2cd2547g2-ls_firmware',\n",
       "       'ds-2cd2547g2-lzs_firmware', 'ds-2cd2563g2-i\\\\(s\\\\)_firmware',\n",
       "       'ds-2cd2566g2-i\\\\(s\\\\)_firmware', 'ds-2cd2583g2-i\\\\(s\\\\)_firmware',\n",
       "       'ds-2cd2586g2-i\\\\(s\\\\)_firmware', 'ds-2cd2612f-i\\\\(s\\\\)_firmware',\n",
       "       'ds-2cd2621g0-i\\\\(z\\\\)\\\\(s\\\\)_firmware',\n",
       "       'ds-2cd2623g2-izs_firmware', 'ds-2cd2626g2-izsu\\\\/sl_firmware',\n",
       "       'ds-2cd2632f-i\\\\(s\\\\)_firmware', 'ds-2cd2643g2-izs_firmware',\n",
       "       'ds-2cd2646g2-izsu\\\\/sl_firmware', 'ds-2cd2663g2-izs_firmware',\n",
       "       'ds-2cd2666g2-izs_firmware', 'ds-2cd2666g2-izsu\\\\/sl_firmware',\n",
       "       'ds-2cd2683g2-izs_firmware', 'ds-2cd2686g2-izs_firmware',\n",
       "       'ds-2cd2686g2-izsu\\\\/sl_firmware', 'ds-2cd2712f-i\\\\(s\\\\)_firmware',\n",
       "       'ds-2cd2721g0-i\\\\(z\\\\)\\\\(s\\\\)_firmware',\n",
       "       'ds-2cd2723g2-izs_firmware', 'ds-2cd2732f-i\\\\(s\\\\)_firmware',\n",
       "       'ds-2cd2743g2-izs_firmware', 'ds-2cd2763g2-izs_firmware',\n",
       "       'ds-2cd2766g2-izs_firmware', 'ds-2cd2783g2-izs_firmware',\n",
       "       'ds-2cd2786g2-izs_firmware', 'ds-2cd2t32-i3_firmware',\n",
       "       'ds-2cd2t32-i5_firmware', 'ds-2cd2t32-i8_firmware',\n",
       "       'ds-2cd3023g2-iu_firmware', 'ds-2cd3026g2-is_firmware',\n",
       "       'ds-2cd3026g2-iu\\\\/sl_firmware', 'ds-2cd3043g2-iu_firmware',\n",
       "       'ds-2cd3047g2-ls_firmware', 'ds-2cd3056g2-is_firmware',\n",
       "       'ds-2cd3056g2-iu\\\\/sl_firmware', 'ds-2cd3056g2iu\\\\/sl_firmware',\n",
       "       'ds-2cd3063g2-iu_firmware', 'ds-2cd3086g2-is_firmware',\n",
       "       'ds-2cd3123g2-i\\\\(s\\\\)u_firmware',\n",
       "       'ds-2cd3126g2-is\\\\(u\\\\)_firmware', 'ds-2cd3126g2-is_firmware',\n",
       "       'ds-2cd3143g2-i\\\\(s\\\\)u_firmware',\n",
       "       'ds-2cd3156g2-is\\\\(u\\\\)_firmware', 'ds-2cd3156g2-is_firmware',\n",
       "       'ds-2cd3163g2-i\\\\(s\\\\)u_firmware',\n",
       "       'ds-2cd3186g2-is\\\\(u\\\\)_firmware', 'ds-2cd3323g2-iu_firmware',\n",
       "       'ds-2cd3326g2-isu\\\\/sl_firmware', 'ds-2cd3343g2-iu_firmware',\n",
       "       'ds-2cd3347g2-ls\\\\(u\\\\)_firmware',\n",
       "       'ds-2cd3356g2-is\\\\(u\\\\)_firmware', 'ds-2cd3356g2-is_firmware',\n",
       "       'ds-2cd3356g2-isu\\\\/sl_firmware', 'ds-2cd3363g2-iu_firmware',\n",
       "       'ds-2cd3386g2-is\\\\(u\\\\)_firmware', 'ds-2cd3386g2-is_firmware',\n",
       "       'ds-2cd3523g2-is_firmware', 'ds-2cd3526g2-is_firmware',\n",
       "       'ds-2cd3543g2-is_firmware', 'ds-2cd3547g2-ls_firmware',\n",
       "       'ds-2cd3556g2-is_firmware', 'ds-2cd3563g2-is_firmware',\n",
       "       'ds-2cd3586g2-is_firmware', 'ds-2cd3623g2-izs_firmware',\n",
       "       'ds-2cd3626g2-izs_firmware', 'ds-2cd3643g2-izs_firmware',\n",
       "       'ds-2cd3656g2-izs_firmware', 'ds-2cd3663g2-izs_firmware',\n",
       "       'ds-2cd3686g2-izs_firmware', 'ds-2cd3723g2-izs_firmware',\n",
       "       'ds-2cd3726g2-izs_firmware', 'ds-2cd3743g2-izs_firmware',\n",
       "       'ds-2cd3756g2-izs_firmware', 'ds-2cd3763g2-izs_firmware',\n",
       "       'ds-2cd3786g2-izs_firmware', 'ds-2cd4012f-\\\\(a\\\\)_firmware',\n",
       "       'ds-2cd4012f-\\\\(p\\\\)_firmware', 'ds-2cd4012f-\\\\(w\\\\)_firmware',\n",
       "       'ds-2cd4012fwd-\\\\(a\\\\)_firmware', 'ds-2cd4012fwd-\\\\(p\\\\)_firmware',\n",
       "       'ds-2cd4012fwd-\\\\(w\\\\)_firmware', 'ds-2cd4024f-\\\\(a\\\\)_firmware',\n",
       "       'ds-2cd4024f-\\\\(p\\\\)_firmware', 'ds-2cd4024f-\\\\(w\\\\)_firmware',\n",
       "       'ds-2cd4032fwd-\\\\(a\\\\)_firmware', 'ds-2cd4032fwd-\\\\(p\\\\)_firmware',\n",
       "       'ds-2cd4032fwd-\\\\(w\\\\)_firmware', 'ds-2cd4112f-i\\\\(z\\\\)_firmware',\n",
       "       'ds-2cd4112fwd-i\\\\(z\\\\)_firmware', 'ds-2cd4124f-i\\\\(z\\\\)_firmware',\n",
       "       'ds-2cd4132fwd-i\\\\(z\\\\)_firmware', 'ds-2cd4212f-i\\\\(h\\\\)_firmware',\n",
       "       'ds-2cd4212f-i\\\\(s\\\\)_firmware', 'ds-2cd4212f-i\\\\(z\\\\)_firmware',\n",
       "       'ds-2cd4212fwd-i\\\\(h\\\\)_firmware',\n",
       "       'ds-2cd4212fwd-i\\\\(s\\\\)_firmware',\n",
       "       'ds-2cd4212fwd-i\\\\(z\\\\)_firmware', 'ds-2cd4224f-i\\\\(h\\\\)_firmware',\n",
       "       'ds-2cd4224f-i\\\\(s\\\\)_firmware', 'ds-2cd4224f-i\\\\(z\\\\)_firmware',\n",
       "       'ds-2cd4232fwd-i\\\\(h\\\\)_firmware',\n",
       "       'ds-2cd4232fwd-i\\\\(s\\\\)_firmware',\n",
       "       'ds-2cd4232fwd-i\\\\(z\\\\)_firmware', 'ds-2cd4312f-i\\\\(h\\\\)_firmware',\n",
       "       'ds-2cd4312f-i\\\\(s\\\\)_firmware', 'ds-2cd4312f-i\\\\(z\\\\)_firmware',\n",
       "       'ds-2cd4324f-i\\\\(h\\\\)_firmware', 'ds-2cd4324f-i\\\\(s\\\\)_firmware',\n",
       "       'ds-2cd4324f-i\\\\(z\\\\)_firmware', 'ds-2cd4332fwd-i\\\\(h\\\\)_firmware',\n",
       "       'ds-2cd4332fwd-i\\\\(s\\\\)_firmware',\n",
       "       'ds-2cd4332fwd-i\\\\(z\\\\)_firmware', 'ds-2cd63xx_series_firmware',\n",
       "       'ds-2cd6412fwd_firmware', 'ds-2cd7153-e_firmware',\n",
       "       'ds-2cd9111-s_firmware', 'ds-2df5225x-ae3\\\\(t3\\\\)_firmware',\n",
       "       'ds-2df5225x-ael\\\\(t3\\\\)_firmware',\n",
       "       'ds-2df5232x-ae3\\\\)t3\\\\)_firmware',\n",
       "       'ds-2df5232x-ael\\\\(t3\\\\)_firmware',\n",
       "       'ds-2df6a225x-ael\\\\)t3\\\\)_firmware',\n",
       "       'ds-2df6a236x-ael\\\\(t3\\\\)_firmware',\n",
       "       'ds-2df6a425x-ael\\\\(t3\\\\)_firmware',\n",
       "       'ds-2df6a436x-ael\\\\(t3\\\\)_firmware',\n",
       "       'ds-2df6a436x-ael\\\\(t5\\\\)_firmware',\n",
       "       'ds-2df6a436x-aely\\\\(t5\\\\)_firmware', 'ds-2df6a825x-ael_firmware',\n",
       "       'ds-2df6a836x-ael\\\\(t5\\\\)_firmware',\n",
       "       'ds-2df7225ix-ael\\\\(t3\\\\)_firmware',\n",
       "       'ds-2df7225ix-aelw\\\\(t3\\\\)_firmware',\n",
       "       'ds-2df7232ix-ael\\\\(t3\\\\)_firmware',\n",
       "       'ds-2df7232ix-aelw\\\\(t3\\\\)_firmware',\n",
       "       'ds-2df8225ih-ael\\\\(w\\\\)_firmware', 'ds-2df8225ih-ael_firmware',\n",
       "       'ds-2df8225ix-ael\\\\(t3\\\\)_firmware',\n",
       "       'ds-2df8225ix-ael\\\\(t5\\\\)_firmware',\n",
       "       'ds-2df8225ix-aelw\\\\(t3\\\\)_firmware',\n",
       "       'ds-2df8225ix-aelw\\\\(t5\\\\)_firmware',\n",
       "       'ds-2df8236i5x-aelw_firmware',\n",
       "       'ds-2df8242i5x-ael\\\\(t3\\\\)_firmware',\n",
       "       'ds-2df8242i5x-aelw\\\\(t3\\\\)_firmware',\n",
       "       'ds-2df8242i5x-aelw\\\\(t5\\\\)_firmware',\n",
       "       'ds-2df8242ix-ael\\\\(t5\\\\)_firmware',\n",
       "       'ds-2df8242ix-aelw\\\\(t3\\\\)_firmware',\n",
       "       'ds-2df8242ix-aely\\\\(t3\\\\)_firmware',\n",
       "       'ds-2df8250i8x-ael\\\\(t3\\\\)_firmware',\n",
       "       'ds-2df8425ix-ael\\\\(t3\\\\)_firmware',\n",
       "       'ds-2df8425ix-ael\\\\(t5\\\\)_firmware',\n",
       "       'ds-2df8425ix-aelw\\\\(t3\\\\)_firmware',\n",
       "       'ds-2df8425ix-aelw\\\\(t5\\\\)_firmware',\n",
       "       'ds-2df8436i5x-aelw\\\\(t3\\\\)_firmware',\n",
       "       'ds-2df8442ixs-ael\\\\(t5\\\\)_firmware',\n",
       "       'ds-2df8442ixs-aelw\\\\(t2\\\\)_firmware',\n",
       "       'ds-2df8442ixs-aelw\\\\(t5\\\\)_firmware',\n",
       "       'ds-2df8442ixs-aelwy\\\\(t5\\\\)_firmware',\n",
       "       'ds-2df8442ixs-aely\\\\(t5\\\\)_firmware',\n",
       "       'ds-2df8a442ixs-ael\\\\(t2\\\\)_firmware',\n",
       "       'ds-2df8a442ixs-ael\\\\(t5\\\\)_firmware',\n",
       "       'ds-2df8a442ixs-aely\\\\(t5\\\\)_firmware',\n",
       "       'ds-2df8a442ixs-af\\\\/sp\\\\(t5\\\\)_firmware',\n",
       "       'ds-2df8a442nxs-ael\\\\(t5\\\\)_firmware',\n",
       "       'ds-2df8a842ixs-ael\\\\(t5\\\\)_firmware', 'ds-2dfx_series_firmware',\n",
       "       'ds-2dy9236i8x-a\\\\(t3\\\\)_firmware', 'ds-2dy9236i8x-a_firmware',\n",
       "       'ds-2dy9236ix-a\\\\(t3\\\\)_firmware',\n",
       "       'ds-2dy9236x-a\\\\(t3\\\\)_firmware',\n",
       "       'ds-2dy9240ix-a\\\\(t5\\\\)_firmware',\n",
       "       'ds-2dy92500x-a\\\\(t5\\\\)_firmware',\n",
       "       'ds-2dy9250izs-a\\\\(t5\\\\)_firmware',\n",
       "       'ds-2dyh2a0ixs-d\\\\(t2\\\\)_firmware', 'ds-2td1117-2\\\\/pa_firmware',\n",
       "       'ds-2td1117-3\\\\/pa_firmware', 'ds-2td1117-6\\\\/pa_firmware',\n",
       "       'ds-2td1217b-3\\\\/pa_firmware', 'ds-2td1217b-6\\\\/pa_firmware',\n",
       "       'ds-2td4136t-9_firmware', 'ds-2td4137-25\\\\/w_firmware',\n",
       "       'ds-2td4137-50\\\\/w_firmware', 'ds-2td4166t-9_firmware',\n",
       "       'ds-2td4167-25\\\\/w_firmware', 'ds-2td4167-50\\\\/w_firmware',\n",
       "       'ds-2td6236t-50h2l_firmware', 'ds-2td6237-50h4l\\\\/w_firmware',\n",
       "       'ds-2td6237-75c4l\\\\/w_firmware', 'ds-2td6266t-25h2l_firmware',\n",
       "       'ds-2td6266t-50h2l_firmware', 'ds-2td6267-100c4l\\\\/w_firmware',\n",
       "       'ds-2td6267-100c4l\\\\/wy_firmware', 'ds-2td6267-50h4l\\\\/w_firmware',\n",
       "       'ds-2td6267-75c4l\\\\/w_firmware', 'ds-2td6267-75c4l\\\\/wy_firmware',\n",
       "       'ds-2td8166-100c2f\\\\/v2_firmware',\n",
       "       'ds-2td8166-150ze2f\\\\/v2_firmware',\n",
       "       'ds-2td8166-150zh2f\\\\/v2_firmware',\n",
       "       'ds-2td8166-180ze2f\\\\/v2_firmware',\n",
       "       'ds-2td8166-75c2f\\\\/v2_firmware',\n",
       "       'ds-2td8167-150zc4f\\\\/w_firmware',\n",
       "       'ds-2td8167-190ze2f\\\\/w_firmware',\n",
       "       'ds-2td8167-190ze2f\\\\/wy_firmware',\n",
       "       'ds-2td8167-230zg2f\\\\/w_firmware',\n",
       "       'ds-2td8167-230zg2f\\\\/wy_firmware',\n",
       "       'ds-2xe6242f-is\\\\/316l\\\\(b\\\\)_firmware',\n",
       "       'ds-2xe6422fwd-izhrs_firmware',\n",
       "       'ds-2xe6442f-izhrs\\\\(b\\\\)_firmware',\n",
       "       'ds-2xe6452f-izh\\\\(r\\\\)s_firmware', 'ds-2xe6482f-izhrs_firmware',\n",
       "       'ds-3wf01c-2n\\\\/o_firmware', 'ds-3wf0ac-2nt_firmware',\n",
       "       'ds-7104ni-q1\\\\/4p\\\\/m_firmware', 'ds-7104ni-q1\\\\/4p_firmware',\n",
       "       'ds-7104ni-q1\\\\/m_firmware', 'ds-7104ni-q1_firmware',\n",
       "       'ds-7108ni-q1\\\\/8p\\\\/m_firmware', 'ds-7108ni-q1\\\\/8p_firmware',\n",
       "       'ds-7108ni-q1\\\\/m_firmware', 'ds-7108ni-q1_firmware',\n",
       "       'ds-7204hghi-f1_firmware', 'ds-7604ni-k1\\\\/4p\\\\/4g_firmware',\n",
       "       'ds-7604ni-k1_firmware', 'ds-7604ni-q1\\\\/4p_firmware',\n",
       "       'ds-7604ni-q1_firmware', 'ds-7608ni-k1\\\\/4g_firmware',\n",
       "       'ds-7608ni-k1\\\\/8p\\\\/4g_firmware', 'ds-7608ni-k1\\\\/8p_firmware',\n",
       "       'ds-7608ni-k1_firmware', 'ds-7608ni-q1\\\\/8p_firmware',\n",
       "       'ds-7608ni-q1_firmware', 'ds-7608ni-q2\\\\/8p_firmware',\n",
       "       'ds-7608ni-q2_firmware', 'ds-760ni-k1\\\\/4p_firmware',\n",
       "       'ds-7616ni-k1_firmware', 'ds-7616ni-q1_firmware',\n",
       "       'ds-7616ni-q2\\\\/16p_firmware', 'ds-7616ni-q2_firmware',\n",
       "       'ds-76xxx_series_firmware', 'ds-77xxx_series_firmware',\n",
       "       'ds-a71024_firmware', 'ds-a71048_firmware',\n",
       "       'ds-a71048r-cvs_firmware', 'ds-a71072r_firmware',\n",
       "       'ds-a72024_firmware', 'ds-a72048r-cvs_firmware',\n",
       "       'ds-a72072r_firmware', 'ds-a80316s_firmware',\n",
       "       'ds-a80624s_firmware', 'ds-a81016s_firmware',\n",
       "       'ds-a82024d_firmware', 'ds-k1t320efwx_firmware',\n",
       "       'ds-k1t320efx_firmware', 'ds-k1t320ewx_firmware',\n",
       "       'ds-k1t320ex_firmware', 'ds-k1t320mfwx_firmware',\n",
       "       'ds-k1t320mfx_firmware', 'ds-k1t320mwx_firmware',\n",
       "       'ds-k1t320mx_firmware', 'ds-k1t341am_firmware',\n",
       "       'ds-k1t341amf_firmware', 'ds-k1t341c_firmware',\n",
       "       'ds-k1t341cm_firmware', 'ds-k1t343efwx_firmware',\n",
       "       'ds-k1t343efx_firmware', 'ds-k1t343ewx_firmware',\n",
       "       'ds-k1t343ex_firmware', 'ds-k1t343mfwx_firmware',\n",
       "       'ds-k1t343mfx_firmware', 'ds-k1t343mwx_firmware',\n",
       "       'ds-k1t343mx_firmware', 'ds-k1t671_firmware',\n",
       "       'ds-k1t671m_firmware', 'ds-k1t671mf_firmware',\n",
       "       'ds-k1t671t_firmware', 'ds-k1t671tm-3xf_firmware',\n",
       "       'ds-k1t671tm_firmware', 'ds-k1t671tmf_firmware',\n",
       "       'ds-k1t671tmfw_firmware', 'ds-k1t671tmw_firmware',\n",
       "       'ds-k1t804af_firmware', 'ds-k1t804amf_firmware',\n",
       "       'ds-kh6220-le1_firmware', 'ds-kh6320-le1_firmware',\n",
       "       'ds-kh6320-tde1_firmware', 'ds-kh6320-te1_firmware',\n",
       "       'ds-kh6320-wtde1_firmware', 'ds-kh6320-wte1_firmware',\n",
       "       'ds-kh6350-wte1_firmware', 'ds-kh6351-te1_firmware',\n",
       "       'ds-kh6351-wte1_firmware', 'ds-kh63le1\\\\(b\\\\)_firmware',\n",
       "       'ds-kh8520-wte1_firmware', 'ds-kh9310-wte1\\\\(b\\\\)_firmware',\n",
       "       'ds-kh9510-wte1\\\\(b\\\\)_firmware', 'dvr_ds-7204_firmware',\n",
       "       'ids-2pt9a144mxs-d\\\\/t2_firmware', 'ids-2sk718mxs-d_firmware',\n",
       "       'ids-2sk8144ixs-d\\\\/j_firmware',\n",
       "       'ids-2vs435-f840-ey\\\\(t3\\\\)_firmware',\n",
       "       'ids-2vs435-f840-ey_firmware', 'ptz-n2204i-de3_firmware',\n",
       "       'ptz-n2404i-de3_firmware', 'ptz-n4215-de3_firmware',\n",
       "       'ptz-n4215i-de_firmware', 'ptz-n4225i-de_firmware',\n",
       "       'ptz-n5225i-a_firmware'], dtype=object)"
      ]
     },
     "execution_count": 54,
     "metadata": {},
     "output_type": "execute_result"
    }
   ],
   "source": [
    "# Look at unique product names to understand the naming inconsistencies\n",
    "df['product'].unique()"
   ]
  },
  {
   "cell_type": "code",
   "execution_count": 55,
   "id": "f0279deb",
   "metadata": {},
   "outputs": [
    {
     "data": {
      "text/plain": [
       "763"
      ]
     },
     "execution_count": 55,
     "metadata": {},
     "output_type": "execute_result"
    }
   ],
   "source": [
    "len(df['product'].unique())"
   ]
  },
  {
   "cell_type": "code",
   "execution_count": 56,
   "id": "f70e67c3",
   "metadata": {},
   "outputs": [
    {
     "data": {
      "text/plain": [
       "array(['-', '*', '4.1.0_b130111', '4.0.1', '2.2.10'], dtype=object)"
      ]
     },
     "execution_count": 56,
     "metadata": {},
     "output_type": "execute_result"
    }
   ],
   "source": [
    "# Look at unique version names to understand the naming inconsistencies\n",
    "df['version'].unique()"
   ]
  },
  {
   "cell_type": "code",
   "execution_count": 57,
   "id": "6051d003",
   "metadata": {},
   "outputs": [
    {
     "data": {
      "text/plain": [
       "5"
      ]
     },
     "execution_count": 57,
     "metadata": {},
     "output_type": "execute_result"
    }
   ],
   "source": [
    "len(df['version'].unique())"
   ]
  },
  {
   "cell_type": "markdown",
   "id": "175877e9",
   "metadata": {},
   "source": [
    "# Data cleaning\n",
    "## Removing duplicated records"
   ]
  },
  {
   "cell_type": "code",
   "execution_count": 58,
   "id": "21682589",
   "metadata": {},
   "outputs": [
    {
     "name": "stdout",
     "output_type": "stream",
     "text": [
      "Number of duplicate rows = 1\n"
     ]
    }
   ],
   "source": [
    "# check if the dataframe contains duplicate values\n",
    "duplicates = df.duplicated()\n",
    "\n",
    "# print the number of duplicate rows\n",
    "print(f'Number of duplicate rows = {duplicates.sum()}')"
   ]
  },
  {
   "cell_type": "markdown",
   "id": "008144eb",
   "metadata": {},
   "source": [
    "yes, the dataframe contains duplicated lines we must delete them"
   ]
  },
  {
   "cell_type": "code",
   "execution_count": 59,
   "id": "9eeae253",
   "metadata": {},
   "outputs": [
    {
     "name": "stdout",
     "output_type": "stream",
     "text": [
      "        vendor       product version update versionStartIncluding  \\\n",
      "384  hikvision  ds-2cd7153-e       -      *                   NaN   \n",
      "\n",
      "     versionStartExcluding versionEndIncluding versionEndExcluding  \n",
      "384                    NaN                 NaN                 NaN  \n"
     ]
    }
   ],
   "source": [
    "#see \n",
    "print(df[df.duplicated()])"
   ]
  },
  {
   "cell_type": "code",
   "execution_count": 60,
   "id": "70fc2791",
   "metadata": {},
   "outputs": [
    {
     "data": {
      "text/plain": [
       "796"
      ]
     },
     "execution_count": 60,
     "metadata": {},
     "output_type": "execute_result"
    }
   ],
   "source": [
    "len(df)"
   ]
  },
  {
   "cell_type": "markdown",
   "id": "ed94b9f2",
   "metadata": {},
   "source": [
    "the dataset contains 796 records"
   ]
  },
  {
   "cell_type": "code",
   "execution_count": 61,
   "id": "c3bfe4b1",
   "metadata": {},
   "outputs": [],
   "source": [
    "# Remove duplicate rows\n",
    "df = df.drop_duplicates()"
   ]
  },
  {
   "cell_type": "code",
   "execution_count": 62,
   "id": "0923566f",
   "metadata": {},
   "outputs": [
    {
     "data": {
      "text/plain": [
       "795"
      ]
     },
     "execution_count": 62,
     "metadata": {},
     "output_type": "execute_result"
    }
   ],
   "source": [
    "len(df)"
   ]
  },
  {
   "cell_type": "raw",
   "id": "7c2231e3",
   "metadata": {},
   "source": [
    "the dataset contains 795 unique records "
   ]
  },
  {
   "cell_type": "markdown",
   "id": "e826b8eb",
   "metadata": {},
   "source": [
    "## Identifying the inconsistencies in product name"
   ]
  },
  {
   "cell_type": "markdown",
   "id": "ed765607",
   "metadata": {},
   "source": [
    "We use this pdf to understand naming rules : \n",
    "https://mk-smart-solutions.de/media/image/storage/opc/naming%20rule%2020210118.pdf\n",
    "\n",
    "Some examples are available in this website :  https://www.hikvision.com/europe/search/?q=ds&active=Products\n",
    "\n",
    "\n",
    "\n",
    "\n",
    "\n",
    "In the dataset provided, there are several inconsistencies present in the product names that need to be addressed. For example, the product name 'hikvision ds-2cd2183g2-iu' does not include parentheses around 'u', which is a standard we'd like to establish. Additionally, in the product name 'hikvision ds-2cd2186g2-i(su)', not only is 'su' enclosed within parentheses, but the parentheses are also escaped, which adds an unnecessary layer of complexity. Lastly, in 'hikvision ds-2cd2026g2-iu/sl', 'sl' appears after a '\\/', which is inconsistent with our other product naming conventions. To standardize our dataset, these anomalies need to be addressed\n"
   ]
  },
  {
   "cell_type": "code",
   "execution_count": 2,
   "id": "d50ae4f0",
   "metadata": {},
   "outputs": [],
   "source": [
    "# Define function to standardize product names\n",
    "\n",
    "def standardize_product_name(product_name):\n",
    "    \n",
    "    # Convert to lower case\n",
    "    product_name = product_name.lower()\n",
    "    \n",
    "    # Add parentheses around 'u' if it follows 'i' and is at the end, and isn't already in parentheses\n",
    "    product_name = re.sub(r\"(i)u$\", r\"\\1(u)\", product_name)\n",
    "\n",
    "    # Remove escaping from parentheses\n",
    "    product_name = product_name.replace(r\"\\(\", \"(\").replace(r\"\\)\", \")\")\n",
    "\n",
    "    # replacing'\\/' by \n",
    "    product_name = product_name.replace(r\"\\/\", \"/\")\n",
    "    \n",
    "    \n",
    "    return product_name"
   ]
  },
  {
   "cell_type": "code",
   "execution_count": 116,
   "id": "dc1a072a",
   "metadata": {},
   "outputs": [
    {
     "data": {
      "text/plain": [
       "'ds-2cd2183g2-i(u)'"
      ]
     },
     "execution_count": 116,
     "metadata": {},
     "output_type": "execute_result"
    }
   ],
   "source": [
    "standardize_product_name('ds-2cd2183g2-iu')\n"
   ]
  },
  {
   "cell_type": "code",
   "execution_count": 117,
   "id": "24d4cb40",
   "metadata": {},
   "outputs": [
    {
     "data": {
      "text/plain": [
       "'ds-2cd3026g2-iu/sl'"
      ]
     },
     "execution_count": 117,
     "metadata": {},
     "output_type": "execute_result"
    }
   ],
   "source": [
    "standardize_product_name('ds-2cd3026g2-iu\\/sl')"
   ]
  },
  {
   "cell_type": "code",
   "execution_count": 118,
   "id": "9b6a7a1d",
   "metadata": {},
   "outputs": [
    {
     "data": {
      "text/plain": [
       "'ds-2cd3123g2-i(s)u'"
      ]
     },
     "execution_count": 118,
     "metadata": {},
     "output_type": "execute_result"
    }
   ],
   "source": [
    "standardize_product_name('ds-2cd3123g2-i\\(s\\)u')"
   ]
  },
  {
   "cell_type": "markdown",
   "id": "acb9a117",
   "metadata": {},
   "source": [
    "## Identifying the inconsistencies in version and  update "
   ]
  },
  {
   "cell_type": "markdown",
   "id": "bc29f18a",
   "metadata": {},
   "source": [
    "In the provided data sample, we can observe some inconsistencies regarding the representation of product names, version numbers, and updates. These inconsistencies could cause issues when analyzing or comparing the data.\n",
    "\n",
    "the build number is embedded within the version column for ds-2cd7153-e_firmware, also from hikvision. The version is listed as 4.1.0_b130111, where b130111 appears to be the build number but is included within the version.\n",
    "\n",
    "The second entry highlights another variation in how the build number is represented. In this case, for the product dvr_ds-7204_firmware from hikvision, the build number is prefixed with build_, making it build_131009 instead of just 131009.\n",
    "\n",
    "These inconsistent representations can complicate the data cleaning and standardization process, but by identifying and categorizing these problems, we can develop effective strategies to address them."
   ]
  },
  {
   "cell_type": "code",
   "execution_count": 3,
   "id": "b59ef8d8",
   "metadata": {},
   "outputs": [],
   "source": [
    "# Define function to standardize version numbers and update details\n",
    "def standardize_version_and_update(version, update):\n",
    "    # Check if version has an embedded build number\n",
    "    if \"_b\" in version:\n",
    "        # If yes, split the version into version number and build number\n",
    "        version, build = version.split(\"_b\")\n",
    "        # put the build number into the update details\n",
    "        update = build\n",
    "        \n",
    "    if \"build_\" in update:\n",
    "        # If yes, remove the \"build_\" prefix from the update\n",
    "        update = re.sub(r\"build_\", \"\", update)    \n",
    "        \n",
    "    \n",
    "    return version, update"
   ]
  },
  {
   "cell_type": "code",
   "execution_count": 4,
   "id": "8861a585",
   "metadata": {},
   "outputs": [
    {
     "data": {
      "text/plain": [
       "('4.1.0', '130111')"
      ]
     },
     "execution_count": 4,
     "metadata": {},
     "output_type": "execute_result"
    }
   ],
   "source": [
    "standardize_version_and_update('4.1.0_b130111','*')"
   ]
  },
  {
   "cell_type": "code",
   "execution_count": 5,
   "id": "1c327b2c",
   "metadata": {},
   "outputs": [
    {
     "data": {
      "text/plain": [
       "('4.1.0', '*')"
      ]
     },
     "execution_count": 5,
     "metadata": {},
     "output_type": "execute_result"
    }
   ],
   "source": [
    "standardize_version_and_update('4.1.0','*')"
   ]
  },
  {
   "cell_type": "code",
   "execution_count": 8,
   "id": "228fd240",
   "metadata": {},
   "outputs": [
    {
     "data": {
      "text/plain": [
       "('2.2.1', '131009')"
      ]
     },
     "execution_count": 8,
     "metadata": {},
     "output_type": "execute_result"
    }
   ],
   "source": [
    "standardize_version_and_update('2.2.1','build_131009')"
   ]
  },
  {
   "cell_type": "code",
   "execution_count": 9,
   "id": "feb366b2",
   "metadata": {},
   "outputs": [
    {
     "data": {
      "text/plain": [
       "('-', '*')"
      ]
     },
     "execution_count": 9,
     "metadata": {},
     "output_type": "execute_result"
    }
   ],
   "source": [
    "standardize_version_and_update('-','*')"
   ]
  },
  {
   "cell_type": "markdown",
   "id": "22f48f60",
   "metadata": {},
   "source": [
    "## Standarazing a batch of records"
   ]
  },
  {
   "cell_type": "markdown",
   "id": "61b7e277",
   "metadata": {},
   "source": [
    "Pandas DataFrame's **apply** funvction is used in the standardization functions, these are already quite capable of handling batch operations. This is because the apply function operates on whole series of data rather than individual elements, leading to efficiencies in execution.\n",
    "\n",
    "However, if the  dataset is very large, we are  concerned about memory usage, we might want to process the data in **chunks**. we can use Pandas' read_excel function with the **chunksize** parameter to read and process the data in chunks.\n",
    "\n",
    "\n",
    "Note that processing the data in chunks like this will be slower than processing it all at once, because the function application (apply) has to be performed separately for each chunk. However, this approach enables us to work with datasets that are too large to fit into memory, which might be necessary in some situations.\n",
    "\n",
    "Finnaly, we write each processed chunk to a new Excel or CSV file. This way, the memory is freed up as each chunk is written. \n"
   ]
  },
  {
   "cell_type": "code",
   "execution_count": 118,
   "id": "3b8ad806",
   "metadata": {},
   "outputs": [],
   "source": [
    "import openpyxl\n",
    "import pandas as pd\n",
    "import os\n",
    "\n",
    "def process_chunk(chunk, output_filepath,row_num, mode):\n",
    "    \n",
    "    print(chunk.columns)  # Add this line to debug\n",
    "    print(chunk)\n",
    "\n",
    "    # Apply the function to the 'Product' column\n",
    "    chunk['product'] = chunk['product'].apply(standardize_product_name)\n",
    "        \n",
    "    # Apply the function to the 'Version' and 'Update' columns\n",
    "    chunk['version'], chunk['update'] = zip(*chunk.apply(lambda row: standardize_version_and_update(row['version'], row['update']), axis=1))\n",
    "        \n",
    "    # Write the processed chunk to Excel\n",
    "    writer = pd.ExcelWriter(output_filepath, engine='openpyxl', mode=mode)\n",
    "    header = True\n",
    "    if mode == 'a' :\n",
    "        writer = pd.ExcelWriter(output_filepath, engine='openpyxl', mode='a', if_sheet_exists='overlay') \n",
    "        header =None\n",
    "    with writer:\n",
    "        chunk.to_excel(writer,  startrow=row_num,index=False,header=header)\n",
    "        \n",
    " \n",
    "\n",
    "# Batch processing function\n",
    "\n",
    "def batch_parse(filepath, sheet_number, output_filepath, chunksize=10000):\n",
    "    wb = openpyxl.load_workbook(filename = filepath, read_only=True)\n",
    "    ws = wb[wb.sheetnames[sheet_number]]\n",
    "    header = [cell.value for cell in ws[1]]  # read the header in the first row\n",
    "    data = []\n",
    "    chunk_number =0\n",
    "    for i, row in enumerate(ws.rows):\n",
    "        data.append([cell.value for cell in row])\n",
    "        if (i+1) % chunksize == 0 or (i+1) == ws.max_row:\n",
    "            chunk_number +=1\n",
    "            mode = 'a' if os.path.exists(output_filepath) else 'w'\n",
    "            if (mode=='a'):\n",
    "                chunk = pd.DataFrame(data, columns=header)  # use the header for each chunk\n",
    "            else :\n",
    "                chunk = pd.DataFrame(data[1:], columns=header)  # use the header for each chunk\n",
    "            \n",
    "            process_chunk(chunk, output_filepath,(chunk_number-1)*chunksize, mode)\n",
    "            data = []\n",
    "    print(f\"Processed data written to: {output_filepath}\")\n",
    "\n"
   ]
  },
  {
   "cell_type": "code",
   "execution_count": 119,
   "id": "26d7513f",
   "metadata": {},
   "outputs": [
    {
     "name": "stdout",
     "output_type": "stream",
     "text": [
      "Index(['vendor', 'product', 'version', 'update', 'versionStartIncluding',\n",
      "       'versionStartExcluding', 'versionEndIncluding', 'versionEndExcluding'],\n",
      "      dtype='object')\n",
      "       vendor              product version update versionStartIncluding  \\\n",
      "0   hikvision  ds-2cd2021g1-i\\(w\\)       -      *                         \n",
      "1   hikvision  ds-2cd2023g2-i\\(u\\)       -      *                         \n",
      "2   hikvision  ds-2cd2026g2-iu\\/sl       -      *                         \n",
      "3   hikvision  ds-2cd2027g2-l\\(u\\)       -      *                         \n",
      "4   hikvision  ds-2cd2027g2-lu\\/sl       -      *                         \n",
      "..        ...                  ...     ...    ...                   ...   \n",
      "94  hikvision     ds-2cd2743g2-izs       -      *                         \n",
      "95  hikvision     ds-2cd2763g2-izs       -      *                         \n",
      "96  hikvision     ds-2cd2766g2-izs       -      *                         \n",
      "97  hikvision     ds-2cd2783g2-izs       -      *                         \n",
      "98  hikvision     ds-2cd2786g2-izs       -      *                         \n",
      "\n",
      "   versionStartExcluding versionEndIncluding versionEndExcluding  \n",
      "0                                                                 \n",
      "1                                                                 \n",
      "2                                                                 \n",
      "3                                                                 \n",
      "4                                                                 \n",
      "..                   ...                 ...                 ...  \n",
      "94                                                                \n",
      "95                                                                \n",
      "96                                                                \n",
      "97                                                                \n",
      "98                                                                \n",
      "\n",
      "[99 rows x 8 columns]\n",
      "Index(['vendor', 'product', 'version', 'update', 'versionStartIncluding',\n",
      "       'versionStartExcluding', 'versionEndIncluding', 'versionEndExcluding'],\n",
      "      dtype='object')\n",
      "       vendor                 product version update versionStartIncluding  \\\n",
      "0   hikvision           ds-2cd2t32-i3       -      *                         \n",
      "1   hikvision           ds-2cd2t32-i5       -      *                         \n",
      "2   hikvision           ds-2cd2t32-i8       -      *                         \n",
      "3   hikvision         ds-2cd3023g2-iu       -      *                         \n",
      "4   hikvision         ds-2cd3026g2-is       -      *                         \n",
      "..        ...                     ...     ...    ...                   ...   \n",
      "95  hikvision  ds-2df6a225x-ael\\)t3\\)       -      *                         \n",
      "96  hikvision  ds-2df6a236x-ael\\(t3\\)       -      *                         \n",
      "97  hikvision  ds-2df6a425x-ael\\(t3\\)       -      *                         \n",
      "98  hikvision  ds-2df6a436x-ael\\(t3\\)       -      *                         \n",
      "99  hikvision  ds-2df6a436x-ael\\(t5\\)       -      *                         \n",
      "\n",
      "   versionStartExcluding versionEndIncluding versionEndExcluding  \n",
      "0                                                                 \n",
      "1                                                                 \n",
      "2                                                                 \n",
      "3                                                                 \n",
      "4                                                                 \n",
      "..                   ...                 ...                 ...  \n",
      "95                                                                \n",
      "96                                                                \n",
      "97                                                                \n",
      "98                                                                \n",
      "99                                                                \n",
      "\n",
      "[100 rows x 8 columns]\n",
      "Index(['vendor', 'product', 'version', 'update', 'versionStartIncluding',\n",
      "       'versionStartExcluding', 'versionEndIncluding', 'versionEndExcluding'],\n",
      "      dtype='object')\n",
      "       vendor                  product version update versionStartIncluding  \\\n",
      "0   hikvision  ds-2df6a436x-aely\\(t5\\)       -      *                         \n",
      "1   hikvision         ds-2df6a825x-ael       -      *                         \n",
      "2   hikvision   ds-2df6a836x-ael\\(t5\\)       -      *                         \n",
      "3   hikvision   ds-2df7225ix-ael\\(t3\\)       -      *                         \n",
      "4   hikvision  ds-2df7225ix-aelw\\(t3\\)       -      *                         \n",
      "..        ...                      ...     ...    ...                   ...   \n",
      "95  hikvision     ds-7604ni-k1\\/4p\\/4g       -      *                         \n",
      "96  hikvision             ds-7604ni-q1       -      *                         \n",
      "97  hikvision         ds-7604ni-q1\\/4p       -      *                         \n",
      "98  hikvision         ds-7608ni-12\\/8p       -      *                         \n",
      "99  hikvision         ds-7608ni-e1\\/8p       -      *                         \n",
      "\n",
      "   versionStartExcluding versionEndIncluding versionEndExcluding  \n",
      "0                                                                 \n",
      "1                                                                 \n",
      "2                                                                 \n",
      "3                                                                 \n",
      "4                                                                 \n",
      "..                   ...                 ...                 ...  \n",
      "95                                                                \n",
      "96                                                                \n",
      "97                                                                \n",
      "98                                                                \n",
      "99                                                                \n",
      "\n",
      "[100 rows x 8 columns]\n",
      "Index(['vendor', 'product', 'version', 'update', 'versionStartIncluding',\n",
      "       'versionStartExcluding', 'versionEndIncluding', 'versionEndExcluding'],\n",
      "      dtype='object')\n",
      "       vendor                       product version update  \\\n",
      "0   hikvision                  ds-7608ni-k1       -      *   \n",
      "1   hikvision              ds-7608ni-k1\\/4g       -      *   \n",
      "2   hikvision              ds-7608ni-k1\\/8p       -      *   \n",
      "3   hikvision          ds-7608ni-k1\\/8p\\/4g       -      *   \n",
      "4   hikvision                  ds-7608ni-q1       -      *   \n",
      "..        ...                           ...     ...    ...   \n",
      "95  hikvision  ds-2cd2047g2-l\\(u\\)_firmware       -      *   \n",
      "96  hikvision  ds-2cd2063g2-i\\(u\\)_firmware       -      *   \n",
      "97  hikvision  ds-2cd2066g2-i\\(u\\)_firmware       -      *   \n",
      "98  hikvision  ds-2cd2066g2-iu\\/sl_firmware       -      *   \n",
      "99  hikvision  ds-2cd2083g2-i\\(u\\)_firmware       -      *   \n",
      "\n",
      "   versionStartIncluding versionStartExcluding versionEndIncluding  \\\n",
      "0                                                                    \n",
      "1                                                                    \n",
      "2                                                                    \n",
      "3                                                                    \n",
      "4                                                                    \n",
      "..                   ...                   ...                 ...   \n",
      "95                                                                   \n",
      "96                                                                   \n",
      "97                                                                   \n",
      "98                                                                   \n",
      "99                                                                   \n",
      "\n",
      "   versionEndExcluding  \n",
      "0                       \n",
      "1                       \n",
      "2                       \n",
      "3                       \n",
      "4                       \n",
      "..                 ...  \n",
      "95                      \n",
      "96                      \n",
      "97                      \n",
      "98                      \n",
      "99                      \n",
      "\n",
      "[100 rows x 8 columns]\n",
      "Index(['vendor', 'product', 'version', 'update', 'versionStartIncluding',\n",
      "       'versionStartExcluding', 'versionEndIncluding', 'versionEndExcluding'],\n",
      "      dtype='object')\n",
      "       vendor                            product version update  \\\n",
      "0   hikvision       ds-2cd2086g2-i\\(u\\)_firmware       -      *   \n",
      "1   hikvision       ds-2cd2086g2-iu\\/sl_firmware       -      *   \n",
      "2   hikvision       ds-2cd2087g2-l\\(u\\)_firmware       -      *   \n",
      "3   hikvision              ds-2cd2112-i_firmware       -      *   \n",
      "4   hikvision  ds-2cd2121g0-i\\(w\\)\\(s\\)_firmware       -      *   \n",
      "..        ...                                ...     ...    ...   \n",
      "95  hikvision       ds-2cd3056g2-iu\\/sl_firmware       -      *   \n",
      "96  hikvision        ds-2cd3056g2iu\\/sl_firmware       -      *   \n",
      "97  hikvision           ds-2cd3063g2-iu_firmware       -      *   \n",
      "98  hikvision           ds-2cd3086g2-is_firmware       -      *   \n",
      "99  hikvision      ds-2cd3123g2-i\\(s\\)u_firmware       -      *   \n",
      "\n",
      "   versionStartIncluding versionStartExcluding versionEndIncluding  \\\n",
      "0                                                                    \n",
      "1                                                                    \n",
      "2                                                                    \n",
      "3                                                                    \n",
      "4                                                                    \n",
      "..                   ...                   ...                 ...   \n",
      "95                                                                   \n",
      "96                                                                   \n",
      "97                                                                   \n",
      "98                                                                   \n",
      "99                                                                   \n",
      "\n",
      "   versionEndExcluding  \n",
      "0                       \n",
      "1                       \n",
      "2                       \n",
      "3                       \n",
      "4                       \n",
      "..                 ...  \n",
      "95                      \n",
      "96                      \n",
      "97                      \n",
      "98                      \n",
      "99                      \n",
      "\n",
      "[100 rows x 8 columns]\n",
      "Index(['vendor', 'product', 'version', 'update', 'versionStartIncluding',\n",
      "       'versionStartExcluding', 'versionEndIncluding', 'versionEndExcluding'],\n",
      "      dtype='object')\n",
      "       vendor                           product version update  \\\n",
      "0   hikvision     ds-2cd3126g2-is\\(u\\)_firmware       -      *   \n",
      "1   hikvision          ds-2cd3126g2-is_firmware       -      *   \n",
      "2   hikvision     ds-2cd3143g2-i\\(s\\)u_firmware       -      *   \n",
      "3   hikvision     ds-2cd3156g2-is\\(u\\)_firmware       -      *   \n",
      "4   hikvision          ds-2cd3156g2-is_firmware       -      *   \n",
      "..        ...                               ...     ...    ...   \n",
      "95  hikvision         ds-2df8225ih-ael_firmware       -      *   \n",
      "96  hikvision   ds-2df8225ix-ael\\(t3\\)_firmware       -      *   \n",
      "97  hikvision   ds-2df8225ix-ael\\(t5\\)_firmware       -      *   \n",
      "98  hikvision  ds-2df8225ix-aelw\\(t3\\)_firmware       -      *   \n",
      "99  hikvision  ds-2df8225ix-aelw\\(t5\\)_firmware       -      *   \n",
      "\n",
      "   versionStartIncluding versionStartExcluding versionEndIncluding  \\\n",
      "0                                                                    \n",
      "1                                                                    \n",
      "2                                                                    \n",
      "3                                                                    \n",
      "4                                                                    \n",
      "..                   ...                   ...                 ...   \n",
      "95                                                                   \n",
      "96                                                                   \n",
      "97                                                                   \n",
      "98                                                                   \n",
      "99                                                                   \n",
      "\n",
      "   versionEndExcluding  \n",
      "0                       \n",
      "1                       \n",
      "2                       \n",
      "3                       \n",
      "4                       \n",
      "..                 ...  \n",
      "95                      \n",
      "96                      \n",
      "97                      \n",
      "98                      \n",
      "99                      \n",
      "\n",
      "[100 rows x 8 columns]\n"
     ]
    },
    {
     "name": "stdout",
     "output_type": "stream",
     "text": [
      "Index(['vendor', 'product', 'version', 'update', 'versionStartIncluding',\n",
      "       'versionStartExcluding', 'versionEndIncluding', 'versionEndExcluding'],\n",
      "      dtype='object')\n",
      "       vendor                            product version update  \\\n",
      "0   hikvision        ds-2df8236i5x-aelw_firmware       -      *   \n",
      "1   hikvision   ds-2df8242i5x-ael\\(t3\\)_firmware       -      *   \n",
      "2   hikvision  ds-2df8242i5x-aelw\\(t3\\)_firmware       -      *   \n",
      "3   hikvision  ds-2df8242i5x-aelw\\(t5\\)_firmware       -      *   \n",
      "4   hikvision    ds-2df8242ix-ael\\(t5\\)_firmware       -      *   \n",
      "..        ...                                ...     ...    ...   \n",
      "95  hikvision         ds-7616ni-q2\\/16p_firmware       *      *   \n",
      "96  hikvision              ds-7616ni-q2_firmware       *      *   \n",
      "97  hikvision           ds-76xxx_series_firmware       *      *   \n",
      "98  hikvision           ds-77xxx_series_firmware       *      *   \n",
      "99  hikvision                 ds-a71024_firmware       *      *   \n",
      "\n",
      "   versionStartIncluding versionStartExcluding versionEndIncluding  \\\n",
      "0                                                                    \n",
      "1                                                                    \n",
      "2                                                                    \n",
      "3                                                                    \n",
      "4                                                                    \n",
      "..                   ...                   ...                 ...   \n",
      "95              4.30.210                                  4.31.000   \n",
      "96              4.30.210                                  4.31.000   \n",
      "97                                                           3.3.4   \n",
      "98                                                           3.3.4   \n",
      "99                                                           1.1.4   \n",
      "\n",
      "   versionEndExcluding  \n",
      "0                       \n",
      "1                       \n",
      "2                       \n",
      "3                       \n",
      "4                       \n",
      "..                 ...  \n",
      "95                      \n",
      "96                      \n",
      "97                      \n",
      "98                      \n",
      "99                      \n",
      "\n",
      "[100 rows x 8 columns]\n",
      "Index(['vendor', 'product', 'version', 'update', 'versionStartIncluding',\n",
      "       'versionStartExcluding', 'versionEndIncluding', 'versionEndExcluding'],\n",
      "      dtype='object')\n",
      "       vendor                  product version update versionStartIncluding  \\\n",
      "0   hikvision       ds-a71024_firmware       *      *                         \n",
      "1   hikvision       ds-a71024_firmware       *      *                         \n",
      "2   hikvision       ds-a71048_firmware       *      *                         \n",
      "3   hikvision       ds-a71048_firmware       *      *                         \n",
      "4   hikvision  ds-a71048r-cvs_firmware       *      *                         \n",
      "..        ...                      ...     ...    ...                   ...   \n",
      "92  hikvision  ptz-n2404i-de3_firmware       -      *                         \n",
      "93  hikvision   ptz-n4215-de3_firmware       -      *                         \n",
      "94  hikvision   ptz-n4215i-de_firmware       -      *                         \n",
      "95  hikvision   ptz-n4225i-de_firmware       -      *                         \n",
      "96  hikvision    ptz-n5225i-a_firmware       -      *                         \n",
      "\n",
      "   versionStartExcluding versionEndIncluding versionEndExcluding  \n",
      "0                                    2.3.8-6                      \n",
      "1                                    2.3.8-8                      \n",
      "2                                    2.3.8-6                      \n",
      "3                                    2.3.8-8                      \n",
      "4                                      1.1.4                      \n",
      "..                   ...                 ...                 ...  \n",
      "92                                                                \n",
      "93                                                                \n",
      "94                                                                \n",
      "95                                                                \n",
      "96                                                                \n",
      "\n",
      "[97 rows x 8 columns]\n",
      "Processed data written to: D:\\aphelio\\cleaned_dataset.xlsx\n"
     ]
    }
   ],
   "source": [
    "batch_parse('D:\\\\aphelio\\\\Take home - exercice 1 - product name and version parsing.xlsx',1,'D:\\\\aphelio\\\\cleaned_dataset.xlsx',100)"
   ]
  },
  {
   "cell_type": "markdown",
   "id": "bb599caf",
   "metadata": {},
   "source": [
    "# Data Standardization Report\n",
    "\n",
    "## Introduction\n",
    "\n",
    "We were provided with a dataset containing product names, version numbers, and updates from a specific manufacturer. During the preliminary exploration, we identified inconsistencies in these fields that could hinder data analysis and comparison.\n",
    "\n",
    "## Approach\n",
    "\n",
    "We used Python for the data cleaning process and applied the `pandas` library's powerful data manipulation capabilities. To ensure scalability and manage memory usage, we processed the data in batches, taking advantage of pandas' `read_excel` function's `chunksize` parameter.\n",
    "\n",
    "The cleaning process comprised of the following steps:\n",
    "\n",
    "1. **Importing Data**: We imported the data from an Excel file into a pandas DataFrame for further processing.\n",
    "\n",
    "2. **Removing Duplicates**: We identified and removed duplicate entries in the dataset to ensure the uniqueness of records.\n",
    "\n",
    "3. **Identifying Inconsistencies**: We analyzed unique product names and versions to understand the naming inconsistencies. \n",
    "\n",
    "4. **Standardizing Product Names**: We created a function to standardize the product names based on the observed naming rules. The function converted product names to lowercase, added parentheses around 'u' if it follows 'i', removed escaping from parentheses, and replaced '\\/' with '/'.\n",
    "\n",
    "5. **Standardizing Version and Update Details**: We observed inconsistent representations of build numbers in version and update details. We created a function to handle these inconsistencies. If the version had an embedded build number, it was split into version number and build number, and the build number was added to the update details. If the update had the prefix 'build_', it was removed.\n",
    "\n",
    "6. **Batch Processing**: We processed the data in chunks to handle large datasets that might not fit into memory. We applied the standardization functions to each chunk and wrote the processed chunk to a new Excel file.\n",
    "\n",
    "## Findings\n",
    "\n",
    "Our data cleaning process successfully standardized the product names, version numbers, and updates, thus resolving the initial inconsistencies that were present in the dataset. \n",
    "\n",
    "## Recommendations for Future Work (Bonus part)\n",
    "\n",
    "For maintaining this standardization in the future and mitigating the introduction of new inconsistencies, we recommend the following strategies:\n",
    "\n",
    "1. **Data Entry Guidelines**: Develop clear guidelines for entering data into the system. This could involve specific instructions on naming conventions for products and versions. We used https://mk-smart-solutions.de/media/image/storage/opc/naming%20rule%2020210118.pdf to understand naming rules (Refer to the detailed description provided within the document).\n",
    "\n",
    "2. **Data Validation**: Implement data validation mechanisms at the data entry level. This could involve checks for naming conventions and restrictions on the type of characters allowed.\n",
    "\n",
    "3. **Periodic Auditing and Cleaning**: Conduct regular audits of the data to identify any new inconsistencies. Apply the data cleaning process to new data on a regular basis.\n",
    "\n",
    "4. **Automated Standardization Scripts**: Continue using and updating the data cleaning script to standardize new data. This can be automated to run at regular intervals.\n",
    "\n",
    "5. **Training**: Ensure that all individuals involved in data entry are trained on the data entry guidelines and understand the importance of maintaining consistency in data entry.\n",
    "\n",
    "These recommendations aim to ensure the consistency and reliability of data over time, facilitating smooth data analysis and comparison.\n"
   ]
  },
  {
   "cell_type": "markdown",
   "id": "acd912c8",
   "metadata": {},
   "source": [
    "## Bonus part (strategy)"
   ]
  },
  {
   "cell_type": "markdown",
   "id": "82ced956",
   "metadata": {},
   "source": [
    "A regular expression (regex) is a powerful tool that is essentially a sequence of characters defining a search pattern. This pattern can be used in string searching algorithms, find-and-replace operations, input validation, data parsing and much more.\n",
    "\n",
    "Given a certain naming rule for a product (like the camera names in your examples), we can generate a regex pattern that exactly matches this rule. This process involves interpreting each part of the naming rule and translating it into regex syntax. Here's how this works for the camera naming rule:\n",
    "\n",
    "Basic structure: The basic structure of the camera name consists of various parts separated by spaces or specific characters (like '-', '_', etc.). In regex, we can directly use these parts. For example, 'DS-2' at the start of the name can be represented as ^DS-2 in regex, where ^ denotes the start of the string.\n",
    "\n",
    "Options: If a part can have multiple options, we use [] or () to represent these in regex. For example, if a part can be either '3', '5', '7', or '9', we can represent this as [3579]. If a part can be either 'A', 'D', or 'ids-2', we represent it as (?:A|D|ids-2).\n",
    "\n",
    "Optional parts: If a part is optional (it can be present or not), we append a ? after its representation in regex. For example, if 'I3', 'I5', 'I8', or 'IA' are optional, we represent it as (?:I3|I5|I8|IA)?.\n",
    "\n",
    "End of string: We denote the end of the string with $ in regex. This ensures that the string strictly follows our defined pattern until its end.\n",
    "\n",
    "By combining these regex rules, we generate a pattern that can verify if a camera name strictly follows the given naming rule. A Python function can then use this regex pattern with the re.match() function to check if a given string (camera name) matches this pattern, thus ensuring it adheres to the naming rule."
   ]
  },
  {
   "cell_type": "code",
   "execution_count": null,
   "id": "14067452",
   "metadata": {},
   "outputs": [],
   "source": []
  }
 ],
 "metadata": {
  "kernelspec": {
   "display_name": "Python 3 (ipykernel)",
   "language": "python",
   "name": "python3"
  },
  "language_info": {
   "codemirror_mode": {
    "name": "ipython",
    "version": 3
   },
   "file_extension": ".py",
   "mimetype": "text/x-python",
   "name": "python",
   "nbconvert_exporter": "python",
   "pygments_lexer": "ipython3",
   "version": "3.9.7"
  }
 },
 "nbformat": 4,
 "nbformat_minor": 5
}
